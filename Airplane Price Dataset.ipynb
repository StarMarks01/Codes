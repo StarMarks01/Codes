{
 "cells": [
  {
   "cell_type": "code",
   "execution_count": 213,
   "id": "77c2058d-1eee-4f34-a334-b3d97e7ffb07",
   "metadata": {},
   "outputs": [],
   "source": [
    "import numpy as np\n",
    "import pandas as pd\n",
    "import matplotlib.pyplot as mp\n",
    "import seaborn as sns\n",
    "from sklearn.preprocessing import LabelEncoder,PolynomialFeatures,StandardScaler\n",
    "from sklearn.model_selection import train_test_split\n",
    "from sklearn.tree import DecisionTreeRegressor\n",
    "from sklearn.linear_model import LinearRegression,Ridge,Lasso"
   ]
  },
  {
   "cell_type": "code",
   "execution_count": 236,
   "id": "21af77e4-c1ab-4173-ac65-0ab5735cb094",
   "metadata": {},
   "outputs": [],
   "source": [
    "df = pd.read_csv(r\"C:\\Users\\Yagnesh Narola\\Documents\\Coding Languages\\Artificial Intelligence\\Excel_and_CSV\\Airplane price dataset.csv\")"
   ]
  },
  {
   "cell_type": "code",
   "execution_count": 232,
   "id": "a9623919-3a36-4ecd-bc97-2057b08f8f11",
   "metadata": {},
   "outputs": [],
   "source": [
    "df2 = df.copy()\n",
    "le = LabelEncoder()\n",
    "poly = PolynomialFeatures(degree = 4)\n",
    "dtr = DecisionTreeRegressor()\n",
    "ls = Lasso()\n",
    "rd = Ridge()\n",
    "scaler = StandardScaler()\n",
    "model = LinearRegression()\n",
    "model2 = LinearRegression()"
   ]
  },
  {
   "cell_type": "code",
   "execution_count": 216,
   "id": "18d5b07d-f447-4915-8422-16b84898cb3d",
   "metadata": {},
   "outputs": [
    {
     "data": {
      "text/html": [
       "<div>\n",
       "<style scoped>\n",
       "    .dataframe tbody tr th:only-of-type {\n",
       "        vertical-align: middle;\n",
       "    }\n",
       "\n",
       "    .dataframe tbody tr th {\n",
       "        vertical-align: top;\n",
       "    }\n",
       "\n",
       "    .dataframe thead th {\n",
       "        text-align: right;\n",
       "    }\n",
       "</style>\n",
       "<table border=\"1\" class=\"dataframe\">\n",
       "  <thead>\n",
       "    <tr style=\"text-align: right;\">\n",
       "      <th></th>\n",
       "      <th>Motor Sayısı</th>\n",
       "      <th>Kapasite</th>\n",
       "      <th>Menzil (km)</th>\n",
       "      <th>Yakıt Tüketimi (L/saat)</th>\n",
       "      <th>Saatlik Bakım Maliyeti ($)</th>\n",
       "      <th>Yaş</th>\n",
       "      <th>Fiyat ($)</th>\n",
       "    </tr>\n",
       "  </thead>\n",
       "  <tbody>\n",
       "    <tr>\n",
       "      <th>0</th>\n",
       "      <td>2</td>\n",
       "      <td>50</td>\n",
       "      <td>3000</td>\n",
       "      <td>14.36</td>\n",
       "      <td>2185.43</td>\n",
       "      <td>36</td>\n",
       "      <td>1.285708e+07</td>\n",
       "    </tr>\n",
       "    <tr>\n",
       "      <th>1</th>\n",
       "      <td>2</td>\n",
       "      <td>50</td>\n",
       "      <td>3000</td>\n",
       "      <td>4.03</td>\n",
       "      <td>1202.08</td>\n",
       "      <td>26</td>\n",
       "      <td>1.391406e+07</td>\n",
       "    </tr>\n",
       "    <tr>\n",
       "      <th>2</th>\n",
       "      <td>2</td>\n",
       "      <td>180</td>\n",
       "      <td>6300</td>\n",
       "      <td>13.26</td>\n",
       "      <td>761.38</td>\n",
       "      <td>35</td>\n",
       "      <td>9.073570e+07</td>\n",
       "    </tr>\n",
       "    <tr>\n",
       "      <th>3</th>\n",
       "      <td>2</td>\n",
       "      <td>162</td>\n",
       "      <td>5700</td>\n",
       "      <td>14.61</td>\n",
       "      <td>592.63</td>\n",
       "      <td>0</td>\n",
       "      <td>1.366597e+08</td>\n",
       "    </tr>\n",
       "    <tr>\n",
       "      <th>4</th>\n",
       "      <td>1</td>\n",
       "      <td>4</td>\n",
       "      <td>1285</td>\n",
       "      <td>18.49</td>\n",
       "      <td>4245.99</td>\n",
       "      <td>38</td>\n",
       "      <td>2.037981e+05</td>\n",
       "    </tr>\n",
       "    <tr>\n",
       "      <th>...</th>\n",
       "      <td>...</td>\n",
       "      <td>...</td>\n",
       "      <td>...</td>\n",
       "      <td>...</td>\n",
       "      <td>...</td>\n",
       "      <td>...</td>\n",
       "      <td>...</td>\n",
       "    </tr>\n",
       "    <tr>\n",
       "      <th>12372</th>\n",
       "      <td>2</td>\n",
       "      <td>396</td>\n",
       "      <td>15600</td>\n",
       "      <td>12.16</td>\n",
       "      <td>3054.29</td>\n",
       "      <td>29</td>\n",
       "      <td>3.898071e+08</td>\n",
       "    </tr>\n",
       "    <tr>\n",
       "      <th>12373</th>\n",
       "      <td>2</td>\n",
       "      <td>50</td>\n",
       "      <td>3000</td>\n",
       "      <td>8.26</td>\n",
       "      <td>3107.67</td>\n",
       "      <td>18</td>\n",
       "      <td>1.593888e+07</td>\n",
       "    </tr>\n",
       "    <tr>\n",
       "      <th>12374</th>\n",
       "      <td>2</td>\n",
       "      <td>162</td>\n",
       "      <td>5700</td>\n",
       "      <td>6.93</td>\n",
       "      <td>3972.16</td>\n",
       "      <td>8</td>\n",
       "      <td>9.870994e+07</td>\n",
       "    </tr>\n",
       "    <tr>\n",
       "      <th>12375</th>\n",
       "      <td>1</td>\n",
       "      <td>4</td>\n",
       "      <td>1285</td>\n",
       "      <td>14.28</td>\n",
       "      <td>999.84</td>\n",
       "      <td>10</td>\n",
       "      <td>3.965207e+05</td>\n",
       "    </tr>\n",
       "    <tr>\n",
       "      <th>12376</th>\n",
       "      <td>2</td>\n",
       "      <td>50</td>\n",
       "      <td>3000</td>\n",
       "      <td>2.42</td>\n",
       "      <td>1035.75</td>\n",
       "      <td>10</td>\n",
       "      <td>2.320782e+07</td>\n",
       "    </tr>\n",
       "  </tbody>\n",
       "</table>\n",
       "<p>12377 rows × 7 columns</p>\n",
       "</div>"
      ],
      "text/plain": [
       "       Motor Sayısı  Kapasite  Menzil (km)  Yakıt Tüketimi (L/saat)  \\\n",
       "0                 2        50         3000                    14.36   \n",
       "1                 2        50         3000                     4.03   \n",
       "2                 2       180         6300                    13.26   \n",
       "3                 2       162         5700                    14.61   \n",
       "4                 1         4         1285                    18.49   \n",
       "...             ...       ...          ...                      ...   \n",
       "12372             2       396        15600                    12.16   \n",
       "12373             2        50         3000                     8.26   \n",
       "12374             2       162         5700                     6.93   \n",
       "12375             1         4         1285                    14.28   \n",
       "12376             2        50         3000                     2.42   \n",
       "\n",
       "       Saatlik Bakım Maliyeti ($)  Yaş     Fiyat ($)  \n",
       "0                         2185.43   36  1.285708e+07  \n",
       "1                         1202.08   26  1.391406e+07  \n",
       "2                          761.38   35  9.073570e+07  \n",
       "3                          592.63    0  1.366597e+08  \n",
       "4                         4245.99   38  2.037981e+05  \n",
       "...                           ...  ...           ...  \n",
       "12372                     3054.29   29  3.898071e+08  \n",
       "12373                     3107.67   18  1.593888e+07  \n",
       "12374                     3972.16    8  9.870994e+07  \n",
       "12375                      999.84   10  3.965207e+05  \n",
       "12376                     1035.75   10  2.320782e+07  \n",
       "\n",
       "[12377 rows x 7 columns]"
      ]
     },
     "execution_count": 216,
     "metadata": {},
     "output_type": "execute_result"
    }
   ],
   "source": [
    "df2 = df2.drop(columns = ['Üretim Yılı','Motor Türü','Satış Bölgesi','Model'])\n",
    "df2"
   ]
  },
  {
   "cell_type": "code",
   "execution_count": 217,
   "id": "c21b413d-1ed6-44ff-b6f4-4631d0dcded2",
   "metadata": {},
   "outputs": [
    {
     "data": {
      "text/plain": [
       "Motor Sayısı                  0\n",
       "Kapasite                      0\n",
       "Menzil (km)                   0\n",
       "Yakıt Tüketimi (L/saat)       0\n",
       "Saatlik Bakım Maliyeti ($)    0\n",
       "Yaş                           0\n",
       "Fiyat ($)                     0\n",
       "dtype: int64"
      ]
     },
     "execution_count": 217,
     "metadata": {},
     "output_type": "execute_result"
    }
   ],
   "source": [
    "df2.isnull().sum()"
   ]
  },
  {
   "cell_type": "code",
   "execution_count": 218,
   "id": "2913b6c0-903c-46b1-a6f3-ff01973391a7",
   "metadata": {},
   "outputs": [
    {
     "data": {
      "text/plain": [
       "Index([], dtype='object')"
      ]
     },
     "execution_count": 218,
     "metadata": {},
     "output_type": "execute_result"
    }
   ],
   "source": [
    "cols = ['Motor Sayısı', 'Kapasite',\n",
    "       'Menzil (km)', 'Yakıt Tüketimi (L/saat)', 'Saatlik Bakım Maliyeti ($)',\n",
    "       'Yaş', 'Fiyat ($)']\n",
    "df2.select_dtypes(include = 'object').columns"
   ]
  },
  {
   "cell_type": "code",
   "execution_count": 219,
   "id": "024b473a-deb4-46af-98fe-88c6c8f3f9b7",
   "metadata": {},
   "outputs": [],
   "source": [
    "dfobj = df2.select_dtypes(include = 'object')\n",
    "for i in dfobj.columns:\n",
    "    df2[i] = le.fit_transform(df2[i])"
   ]
  },
  {
   "cell_type": "code",
   "execution_count": 220,
   "id": "50b09124-3a71-4279-8f34-a4b20c0727ae",
   "metadata": {},
   "outputs": [
    {
     "data": {
      "image/png": "[encoded data removed]",
      "text/plain": [
       "<Figure size 640x480 with 1 Axes>"
      ]
     },
     "metadata": {},
     "output_type": "display_data"
    }
   ],
   "source": [
    "for i in cols:\n",
    "    sns.boxplot(df2[i])"
   ]
  },
  {
   "cell_type": "code",
   "execution_count": 221,
   "id": "349c3919-7414-471f-a7ef-8523dd6d9080",
   "metadata": {},
   "outputs": [],
   "source": [
    "def Outliers(df,columns):\n",
    "    for i in columns:\n",
    "        df[i] = df[i].astype('float')\n",
    "        q1 = df[i].quantile(0.25)\n",
    "        q3 = df[i].quantile(0.75)\n",
    "        iqr = q3 - q1\n",
    "        upperlimit = q3 + (1.5 * iqr)\n",
    "        lowerlimit = q1 - (1.5 * iqr)\n",
    "        df.loc[df[i]>upperlimit,i] = upperlimit\n",
    "        df.loc[df[i]<lowerlimit,i] = lowerlimit\n",
    "    return df\n",
    "cols = ['Motor Sayısı', 'Kapasite',\n",
    "       'Menzil (km)', 'Yakıt Tüketimi (L/saat)', 'Saatlik Bakım Maliyeti ($)',\n",
    "       'Yaş', 'Fiyat ($)']\n",
    "df2 = Outliers(df2,cols)"
   ]
  },
  {
   "cell_type": "code",
   "execution_count": 222,
   "id": "ee3df138-d175-4111-b253-9ae4ea642ecd",
   "metadata": {},
   "outputs": [
    {
     "data": {
      "text/html": [
       "<div>\n",
       "<style scoped>\n",
       "    .dataframe tbody tr th:only-of-type {\n",
       "        vertical-align: middle;\n",
       "    }\n",
       "\n",
       "    .dataframe tbody tr th {\n",
       "        vertical-align: top;\n",
       "    }\n",
       "\n",
       "    .dataframe thead th {\n",
       "        text-align: right;\n",
       "    }\n",
       "</style>\n",
       "<table border=\"1\" class=\"dataframe\">\n",
       "  <thead>\n",
       "    <tr style=\"text-align: right;\">\n",
       "      <th></th>\n",
       "      <th>Motor Sayısı</th>\n",
       "      <th>Kapasite</th>\n",
       "      <th>Menzil (km)</th>\n",
       "      <th>Yakıt Tüketimi (L/saat)</th>\n",
       "      <th>Saatlik Bakım Maliyeti ($)</th>\n",
       "      <th>Yaş</th>\n",
       "      <th>Fiyat ($)</th>\n",
       "    </tr>\n",
       "  </thead>\n",
       "  <tbody>\n",
       "    <tr>\n",
       "      <th>0</th>\n",
       "      <td>2.0</td>\n",
       "      <td>50.0</td>\n",
       "      <td>3000.0</td>\n",
       "      <td>14.36</td>\n",
       "      <td>2185.43</td>\n",
       "      <td>36.0</td>\n",
       "      <td>1.285708e+07</td>\n",
       "    </tr>\n",
       "    <tr>\n",
       "      <th>1</th>\n",
       "      <td>2.0</td>\n",
       "      <td>50.0</td>\n",
       "      <td>3000.0</td>\n",
       "      <td>4.03</td>\n",
       "      <td>1202.08</td>\n",
       "      <td>26.0</td>\n",
       "      <td>1.391406e+07</td>\n",
       "    </tr>\n",
       "    <tr>\n",
       "      <th>2</th>\n",
       "      <td>2.0</td>\n",
       "      <td>180.0</td>\n",
       "      <td>6300.0</td>\n",
       "      <td>13.26</td>\n",
       "      <td>761.38</td>\n",
       "      <td>35.0</td>\n",
       "      <td>9.073570e+07</td>\n",
       "    </tr>\n",
       "    <tr>\n",
       "      <th>3</th>\n",
       "      <td>2.0</td>\n",
       "      <td>162.0</td>\n",
       "      <td>5700.0</td>\n",
       "      <td>14.61</td>\n",
       "      <td>592.63</td>\n",
       "      <td>0.0</td>\n",
       "      <td>1.366597e+08</td>\n",
       "    </tr>\n",
       "    <tr>\n",
       "      <th>4</th>\n",
       "      <td>2.0</td>\n",
       "      <td>4.0</td>\n",
       "      <td>1285.0</td>\n",
       "      <td>18.49</td>\n",
       "      <td>4245.99</td>\n",
       "      <td>38.0</td>\n",
       "      <td>2.037981e+05</td>\n",
       "    </tr>\n",
       "    <tr>\n",
       "      <th>...</th>\n",
       "      <td>...</td>\n",
       "      <td>...</td>\n",
       "      <td>...</td>\n",
       "      <td>...</td>\n",
       "      <td>...</td>\n",
       "      <td>...</td>\n",
       "      <td>...</td>\n",
       "    </tr>\n",
       "    <tr>\n",
       "      <th>12372</th>\n",
       "      <td>2.0</td>\n",
       "      <td>396.0</td>\n",
       "      <td>15600.0</td>\n",
       "      <td>12.16</td>\n",
       "      <td>3054.29</td>\n",
       "      <td>29.0</td>\n",
       "      <td>3.898071e+08</td>\n",
       "    </tr>\n",
       "    <tr>\n",
       "      <th>12373</th>\n",
       "      <td>2.0</td>\n",
       "      <td>50.0</td>\n",
       "      <td>3000.0</td>\n",
       "      <td>8.26</td>\n",
       "      <td>3107.67</td>\n",
       "      <td>18.0</td>\n",
       "      <td>1.593888e+07</td>\n",
       "    </tr>\n",
       "    <tr>\n",
       "      <th>12374</th>\n",
       "      <td>2.0</td>\n",
       "      <td>162.0</td>\n",
       "      <td>5700.0</td>\n",
       "      <td>6.93</td>\n",
       "      <td>3972.16</td>\n",
       "      <td>8.0</td>\n",
       "      <td>9.870994e+07</td>\n",
       "    </tr>\n",
       "    <tr>\n",
       "      <th>12375</th>\n",
       "      <td>2.0</td>\n",
       "      <td>4.0</td>\n",
       "      <td>1285.0</td>\n",
       "      <td>14.28</td>\n",
       "      <td>999.84</td>\n",
       "      <td>10.0</td>\n",
       "      <td>3.965207e+05</td>\n",
       "    </tr>\n",
       "    <tr>\n",
       "      <th>12376</th>\n",
       "      <td>2.0</td>\n",
       "      <td>50.0</td>\n",
       "      <td>3000.0</td>\n",
       "      <td>2.42</td>\n",
       "      <td>1035.75</td>\n",
       "      <td>10.0</td>\n",
       "      <td>2.320782e+07</td>\n",
       "    </tr>\n",
       "  </tbody>\n",
       "</table>\n",
       "<p>12377 rows × 7 columns</p>\n",
       "</div>"
      ],
      "text/plain": [
       "       Motor Sayısı  Kapasite  Menzil (km)  Yakıt Tüketimi (L/saat)  \\\n",
       "0               2.0      50.0       3000.0                    14.36   \n",
       "1               2.0      50.0       3000.0                     4.03   \n",
       "2               2.0     180.0       6300.0                    13.26   \n",
       "3               2.0     162.0       5700.0                    14.61   \n",
       "4               2.0       4.0       1285.0                    18.49   \n",
       "...             ...       ...          ...                      ...   \n",
       "12372           2.0     396.0      15600.0                    12.16   \n",
       "12373           2.0      50.0       3000.0                     8.26   \n",
       "12374           2.0     162.0       5700.0                     6.93   \n",
       "12375           2.0       4.0       1285.0                    14.28   \n",
       "12376           2.0      50.0       3000.0                     2.42   \n",
       "\n",
       "       Saatlik Bakım Maliyeti ($)   Yaş     Fiyat ($)  \n",
       "0                         2185.43  36.0  1.285708e+07  \n",
       "1                         1202.08  26.0  1.391406e+07  \n",
       "2                          761.38  35.0  9.073570e+07  \n",
       "3                          592.63   0.0  1.366597e+08  \n",
       "4                         4245.99  38.0  2.037981e+05  \n",
       "...                           ...   ...           ...  \n",
       "12372                     3054.29  29.0  3.898071e+08  \n",
       "12373                     3107.67  18.0  1.593888e+07  \n",
       "12374                     3972.16   8.0  9.870994e+07  \n",
       "12375                      999.84  10.0  3.965207e+05  \n",
       "12376                     1035.75  10.0  2.320782e+07  \n",
       "\n",
       "[12377 rows x 7 columns]"
      ]
     },
     "execution_count": 222,
     "metadata": {},
     "output_type": "execute_result"
    }
   ],
   "source": [
    "df2"
   ]
  },
  {
   "cell_type": "code",
   "execution_count": 223,
   "id": "4781aea6-e347-4f50-98ad-bd612115f147",
   "metadata": {},
   "outputs": [
    {
     "data": {
      "text/plain": [
       "<Axes: >"
      ]
     },
     "execution_count": 223,
     "metadata": {},
     "output_type": "execute_result"
    },
    {
     "data": {
      "image/png": "[encoded data removed]",
      "text/plain": [
       "<Figure size 640x480 with 1 Axes>"
      ]
     },
     "metadata": {},
     "output_type": "display_data"
    }
   ],
   "source": [
    "sns.boxplot(df2)"
   ]
  },
  {
   "cell_type": "code",
   "execution_count": 224,
   "id": "c3c952a1-3d16-4268-bda9-3dcd32dc9f04",
   "metadata": {},
   "outputs": [],
   "source": [
    "x = df2.drop(columns = 'Fiyat ($)')\n",
    "y = df2['Fiyat ($)']"
   ]
  },
  {
   "cell_type": "code",
   "execution_count": 225,
   "id": "34da9910-1a49-4895-96e1-3484223171e5",
   "metadata": {},
   "outputs": [],
   "source": [
    "xtrain,xtest,ytrain,ytest = train_test_split(x,y,random_state = 70,test_size = 0.3)"
   ]
  },
  {
   "cell_type": "code",
   "execution_count": 226,
   "id": "d48879a2-7889-4148-ba2e-40b0d3b11e69",
   "metadata": {},
   "outputs": [],
   "source": [
    "scaler.fit(xtrain)\n",
    "xtrainscaled = scaler.transform(xtrain)\n",
    "xtestscaled = scaler.transform(xtest)\n",
    "model.fit(xtrainscaled,ytrain)\n",
    "linears = model.score(xtestscaled,ytest)"
   ]
  },
  {
   "cell_type": "code",
   "execution_count": 227,
   "id": "6793614b-16e1-49bb-8963-f14afb5097da",
   "metadata": {},
   "outputs": [],
   "source": [
    "poly.fit(xtrain)\n",
    "xtrainpoly = poly.transform(xtrain)\n",
    "xtestpoly = poly.transform(xtest)\n",
    "model2.fit(xtrainpoly,ytrain)\n",
    "polys = model2.score(xtestpoly,ytest)"
   ]
  },
  {
   "cell_type": "code",
   "execution_count": 228,
   "id": "fd294241-2754-431f-bc27-df27471e6d18",
   "metadata": {},
   "outputs": [],
   "source": [
    "rd.fit(xtrainscaled,ytrain)\n",
    "ridge = rd.score(xtestscaled,ytest)"
   ]
  },
  {
   "cell_type": "code",
   "execution_count": 229,
   "id": "2c20bbb8-825b-4c70-914a-cff0903036f8",
   "metadata": {},
   "outputs": [
    {
     "name": "stderr",
     "output_type": "stream",
     "text": [
      "D:\\Application Programs\\Anaconda\\Lib\\site-packages\\sklearn\\linear_model\\_coordinate_descent.py:697: ConvergenceWarning: Objective did not converge. You might want to increase the number of iterations, check the scale of the features or consider increasing regularisation. Duality gap: 4.975e+16, tolerance: 4.565e+16\n",
      "  model = cd_fast.enet_coordinate_descent(\n"
     ]
    }
   ],
   "source": [
    "ls.fit(xtrainscaled,ytrain)\n",
    "lasso = ls.score(xtestscaled,ytest)"
   ]
  },
  {
   "cell_type": "code",
   "execution_count": 234,
   "id": "4d33a9ac-7e04-464b-bfb4-eede175376f0",
   "metadata": {},
   "outputs": [],
   "source": [
    "dtr.fit(xtrainscaled,ytrain)\n",
    "dtrs = dtr.score(xtestscaled,ytest)"
   ]
  },
  {
   "cell_type": "code",
   "execution_count": 235,
   "id": "c8f74f00-1f94-4f1e-9590-cf4031d457f6",
   "metadata": {},
   "outputs": [
    {
     "name": "stdout",
     "output_type": "stream",
     "text": [
      "LinearRegression Score: 0.9093431838153844\n",
      "PolynomialFeatures Score: 0.980950377507798\n",
      "Lasso Regression Score: 0.909343183712475\n",
      "Ridge Regression Score: 0.9093339442611384\n",
      "DecisionTreeRegressor Score: 0.9634968346112378\n"
     ]
    }
   ],
   "source": [
    "print(\"LinearRegression Score:\",linears)\n",
    "print(\"PolynomialFeatures Score:\",polys)\n",
    "print(\"Lasso Regression Score:\",lasso)\n",
    "print(\"Ridge Regression Score:\",ridge)\n",
    "print(\"DecisionTreeRegressor Score:\",dtrs)"
   ]
  }
 ],
 "metadata": {
  "kernelspec": {
   "display_name": "Python 3 (ipykernel)",
   "language": "python",
   "name": "python3"
  },
  "language_info": {
   "codemirror_mode": {
    "name": "ipython",
    "version": 3
   },
   "file_extension": ".py",
   "mimetype": "text/x-python",
   "name": "python",
   "nbconvert_exporter": "python",
   "pygments_lexer": "ipython3",
   "version": "3.12.7"
  }
 },
 "nbformat": 4,
 "nbformat_minor": 5
}
