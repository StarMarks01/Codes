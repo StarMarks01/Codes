{
 "cells": [
  {
   "cell_type": "code",
   "execution_count": 78,
   "id": "0ca384ad-9abf-40b7-9220-24de2d9264a2",
   "metadata": {},
   "outputs": [],
   "source": [
    "import numpy as np\n",
    "import pandas as pd\n",
    "import matplotlib.pyplot as mp\n",
    "import seaborn as sns\n",
    "from sklearn.preprocessing import StandardScaler,PolynomialFeatures\n",
    "from sklearn.model_selection import train_test_split\n",
    "from sklearn.linear_model import LinearRegression,Ridge,Lasso\n",
    "from sklearn.ensemble import RandomForestRegressor\n",
    "from sklearn.tree import DecisionTreeRegressor"
   ]
  },
  {
   "cell_type": "code",
   "execution_count": 79,
   "id": "0daa5e35-4748-44b8-8305-27cf8414b8fe",
   "metadata": {},
   "outputs": [],
   "source": [
    "df = pd.read_csv(r\"C:\\Users\\Yagnesh Narola\\Documents\\Coding Languages\\Artificial Intelligence\\Codings\\Top Rated Movies.csv\")"
   ]
  },
  {
   "cell_type": "code",
   "execution_count": 80,
   "id": "369b45aa-2f8f-43b9-8d4f-a3f8bf9f2d86",
   "metadata": {},
   "outputs": [],
   "source": [
    "scaler = StandardScaler()\n",
    "dtr = DecisionTreeRegressor()\n",
    "model = RandomForestRegressor(n_estimators = 150)\n",
    "linear = LinearRegression()\n",
    "linear2 = LinearRegression()\n",
    "poly = PolynomialFeatures(degree = 3)\n",
    "rd = Ridge()\n",
    "ls = Lasso()\n",
    "df2 = df.copy()"
   ]
  },
  {
   "cell_type": "code",
   "execution_count": 81,
   "id": "2480b2b2-0749-41c9-ad78-28e75ea59d43",
   "metadata": {},
   "outputs": [
    {
     "data": {
      "text/plain": [
       "id              0\n",
       "title           0\n",
       "overview        0\n",
       "release_date    2\n",
       "popularity      0\n",
       "vote_average    0\n",
       "vote_count      0\n",
       "dtype: int64"
      ]
     },
     "execution_count": 81,
     "metadata": {},
     "output_type": "execute_result"
    }
   ],
   "source": [
    "df2.isnull().sum()"
   ]
  },
  {
   "cell_type": "code",
   "execution_count": 82,
   "id": "4a76f210-7101-4b25-8ee5-3380959580b5",
   "metadata": {},
   "outputs": [
    {
     "data": {
      "text/html": [
       "<div>\n",
       "<style scoped>\n",
       "    .dataframe tbody tr th:only-of-type {\n",
       "        vertical-align: middle;\n",
       "    }\n",
       "\n",
       "    .dataframe tbody tr th {\n",
       "        vertical-align: top;\n",
       "    }\n",
       "\n",
       "    .dataframe thead th {\n",
       "        text-align: right;\n",
       "    }\n",
       "</style>\n",
       "<table border=\"1\" class=\"dataframe\">\n",
       "  <thead>\n",
       "    <tr style=\"text-align: right;\">\n",
       "      <th></th>\n",
       "      <th>id</th>\n",
       "      <th>title</th>\n",
       "      <th>overview</th>\n",
       "      <th>release_date</th>\n",
       "      <th>popularity</th>\n",
       "      <th>vote_average</th>\n",
       "      <th>vote_count</th>\n",
       "    </tr>\n",
       "  </thead>\n",
       "  <tbody>\n",
       "    <tr>\n",
       "      <th>0</th>\n",
       "      <td>278</td>\n",
       "      <td>The Shawshank Redemption</td>\n",
       "      <td>Imprisoned in the 1940s for the double murder ...</td>\n",
       "      <td>1994-09-23</td>\n",
       "      <td>5.522</td>\n",
       "      <td>8.708</td>\n",
       "      <td>27883</td>\n",
       "    </tr>\n",
       "    <tr>\n",
       "      <th>1</th>\n",
       "      <td>238</td>\n",
       "      <td>The Godfather</td>\n",
       "      <td>Spanning the years 1945 to 1955, a chronicle o...</td>\n",
       "      <td>1972-03-14</td>\n",
       "      <td>5.317</td>\n",
       "      <td>8.689</td>\n",
       "      <td>21151</td>\n",
       "    </tr>\n",
       "    <tr>\n",
       "      <th>2</th>\n",
       "      <td>240</td>\n",
       "      <td>The Godfather Part II</td>\n",
       "      <td>In the continuing saga of the Corleone crime f...</td>\n",
       "      <td>1974-12-20</td>\n",
       "      <td>4.747</td>\n",
       "      <td>8.570</td>\n",
       "      <td>12771</td>\n",
       "    </tr>\n",
       "    <tr>\n",
       "      <th>3</th>\n",
       "      <td>424</td>\n",
       "      <td>Schindler's List</td>\n",
       "      <td>The true story of how businessman Oskar Schind...</td>\n",
       "      <td>1993-12-15</td>\n",
       "      <td>4.457</td>\n",
       "      <td>8.567</td>\n",
       "      <td>16219</td>\n",
       "    </tr>\n",
       "    <tr>\n",
       "      <th>4</th>\n",
       "      <td>1356039</td>\n",
       "      <td>Counterattack</td>\n",
       "      <td>When a hostage rescue mission creates a new en...</td>\n",
       "      <td>2025-02-27</td>\n",
       "      <td>9.430</td>\n",
       "      <td>8.524</td>\n",
       "      <td>431</td>\n",
       "    </tr>\n",
       "    <tr>\n",
       "      <th>...</th>\n",
       "      <td>...</td>\n",
       "      <td>...</td>\n",
       "      <td>...</td>\n",
       "      <td>...</td>\n",
       "      <td>...</td>\n",
       "      <td>...</td>\n",
       "      <td>...</td>\n",
       "    </tr>\n",
       "    <tr>\n",
       "      <th>8555</th>\n",
       "      <td>291264</td>\n",
       "      <td>The Family Fang</td>\n",
       "      <td>A brother and sister return to their family ho...</td>\n",
       "      <td>2016-04-16</td>\n",
       "      <td>3.535</td>\n",
       "      <td>5.800</td>\n",
       "      <td>329</td>\n",
       "    </tr>\n",
       "    <tr>\n",
       "      <th>8556</th>\n",
       "      <td>250349</td>\n",
       "      <td>Barbecue</td>\n",
       "      <td>On his 50th birthday, a man who's been watchin...</td>\n",
       "      <td>2014-04-30</td>\n",
       "      <td>3.829</td>\n",
       "      <td>5.834</td>\n",
       "      <td>699</td>\n",
       "    </tr>\n",
       "    <tr>\n",
       "      <th>8557</th>\n",
       "      <td>150202</td>\n",
       "      <td>The Haunting in Connecticut 2: Ghosts of Georgia</td>\n",
       "      <td>A young family moves into a historic home in G...</td>\n",
       "      <td>2013-02-01</td>\n",
       "      <td>3.533</td>\n",
       "      <td>5.800</td>\n",
       "      <td>520</td>\n",
       "    </tr>\n",
       "    <tr>\n",
       "      <th>8558</th>\n",
       "      <td>4942</td>\n",
       "      <td>Leatherheads</td>\n",
       "      <td>A light hearted comedy about the beginnings of...</td>\n",
       "      <td>2008-03-24</td>\n",
       "      <td>3.532</td>\n",
       "      <td>5.800</td>\n",
       "      <td>457</td>\n",
       "    </tr>\n",
       "    <tr>\n",
       "      <th>8559</th>\n",
       "      <td>748167</td>\n",
       "      <td>Uglies</td>\n",
       "      <td>In a futuristic dystopia with enforced beauty ...</td>\n",
       "      <td>2024-09-12</td>\n",
       "      <td>3.657</td>\n",
       "      <td>5.800</td>\n",
       "      <td>741</td>\n",
       "    </tr>\n",
       "  </tbody>\n",
       "</table>\n",
       "<p>8560 rows × 7 columns</p>\n",
       "</div>"
      ],
      "text/plain": [
       "           id                                             title  \\\n",
       "0         278                          The Shawshank Redemption   \n",
       "1         238                                     The Godfather   \n",
       "2         240                             The Godfather Part II   \n",
       "3         424                                  Schindler's List   \n",
       "4     1356039                                     Counterattack   \n",
       "...       ...                                               ...   \n",
       "8555   291264                                   The Family Fang   \n",
       "8556   250349                                          Barbecue   \n",
       "8557   150202  The Haunting in Connecticut 2: Ghosts of Georgia   \n",
       "8558     4942                                      Leatherheads   \n",
       "8559   748167                                            Uglies   \n",
       "\n",
       "                                               overview release_date  \\\n",
       "0     Imprisoned in the 1940s for the double murder ...   1994-09-23   \n",
       "1     Spanning the years 1945 to 1955, a chronicle o...   1972-03-14   \n",
       "2     In the continuing saga of the Corleone crime f...   1974-12-20   \n",
       "3     The true story of how businessman Oskar Schind...   1993-12-15   \n",
       "4     When a hostage rescue mission creates a new en...   2025-02-27   \n",
       "...                                                 ...          ...   \n",
       "8555  A brother and sister return to their family ho...   2016-04-16   \n",
       "8556  On his 50th birthday, a man who's been watchin...   2014-04-30   \n",
       "8557  A young family moves into a historic home in G...   2013-02-01   \n",
       "8558  A light hearted comedy about the beginnings of...   2008-03-24   \n",
       "8559  In a futuristic dystopia with enforced beauty ...   2024-09-12   \n",
       "\n",
       "      popularity  vote_average  vote_count  \n",
       "0          5.522         8.708       27883  \n",
       "1          5.317         8.689       21151  \n",
       "2          4.747         8.570       12771  \n",
       "3          4.457         8.567       16219  \n",
       "4          9.430         8.524         431  \n",
       "...          ...           ...         ...  \n",
       "8555       3.535         5.800         329  \n",
       "8556       3.829         5.834         699  \n",
       "8557       3.533         5.800         520  \n",
       "8558       3.532         5.800         457  \n",
       "8559       3.657         5.800         741  \n",
       "\n",
       "[8560 rows x 7 columns]"
      ]
     },
     "execution_count": 82,
     "metadata": {},
     "output_type": "execute_result"
    }
   ],
   "source": [
    "df2"
   ]
  },
  {
   "cell_type": "code",
   "execution_count": 83,
   "id": "e730caee-4c59-4c8f-b795-1c1cd9fdb4a6",
   "metadata": {},
   "outputs": [],
   "source": [
    "df2 = df2.drop(columns = ['id','title','overview'])"
   ]
  },
  {
   "cell_type": "code",
   "execution_count": 84,
   "id": "a79ac20d-c9de-42c2-8109-c69cc266456c",
   "metadata": {},
   "outputs": [
    {
     "data": {
      "text/html": [
       "<div>\n",
       "<style scoped>\n",
       "    .dataframe tbody tr th:only-of-type {\n",
       "        vertical-align: middle;\n",
       "    }\n",
       "\n",
       "    .dataframe tbody tr th {\n",
       "        vertical-align: top;\n",
       "    }\n",
       "\n",
       "    .dataframe thead th {\n",
       "        text-align: right;\n",
       "    }\n",
       "</style>\n",
       "<table border=\"1\" class=\"dataframe\">\n",
       "  <thead>\n",
       "    <tr style=\"text-align: right;\">\n",
       "      <th></th>\n",
       "      <th>release_date</th>\n",
       "      <th>popularity</th>\n",
       "      <th>vote_average</th>\n",
       "      <th>vote_count</th>\n",
       "    </tr>\n",
       "  </thead>\n",
       "  <tbody>\n",
       "    <tr>\n",
       "      <th>0</th>\n",
       "      <td>1994-09-23</td>\n",
       "      <td>5.522</td>\n",
       "      <td>8.708</td>\n",
       "      <td>27883</td>\n",
       "    </tr>\n",
       "    <tr>\n",
       "      <th>1</th>\n",
       "      <td>1972-03-14</td>\n",
       "      <td>5.317</td>\n",
       "      <td>8.689</td>\n",
       "      <td>21151</td>\n",
       "    </tr>\n",
       "    <tr>\n",
       "      <th>2</th>\n",
       "      <td>1974-12-20</td>\n",
       "      <td>4.747</td>\n",
       "      <td>8.570</td>\n",
       "      <td>12771</td>\n",
       "    </tr>\n",
       "    <tr>\n",
       "      <th>3</th>\n",
       "      <td>1993-12-15</td>\n",
       "      <td>4.457</td>\n",
       "      <td>8.567</td>\n",
       "      <td>16219</td>\n",
       "    </tr>\n",
       "    <tr>\n",
       "      <th>4</th>\n",
       "      <td>2025-02-27</td>\n",
       "      <td>9.430</td>\n",
       "      <td>8.524</td>\n",
       "      <td>431</td>\n",
       "    </tr>\n",
       "    <tr>\n",
       "      <th>...</th>\n",
       "      <td>...</td>\n",
       "      <td>...</td>\n",
       "      <td>...</td>\n",
       "      <td>...</td>\n",
       "    </tr>\n",
       "    <tr>\n",
       "      <th>8555</th>\n",
       "      <td>2016-04-16</td>\n",
       "      <td>3.535</td>\n",
       "      <td>5.800</td>\n",
       "      <td>329</td>\n",
       "    </tr>\n",
       "    <tr>\n",
       "      <th>8556</th>\n",
       "      <td>2014-04-30</td>\n",
       "      <td>3.829</td>\n",
       "      <td>5.834</td>\n",
       "      <td>699</td>\n",
       "    </tr>\n",
       "    <tr>\n",
       "      <th>8557</th>\n",
       "      <td>2013-02-01</td>\n",
       "      <td>3.533</td>\n",
       "      <td>5.800</td>\n",
       "      <td>520</td>\n",
       "    </tr>\n",
       "    <tr>\n",
       "      <th>8558</th>\n",
       "      <td>2008-03-24</td>\n",
       "      <td>3.532</td>\n",
       "      <td>5.800</td>\n",
       "      <td>457</td>\n",
       "    </tr>\n",
       "    <tr>\n",
       "      <th>8559</th>\n",
       "      <td>2024-09-12</td>\n",
       "      <td>3.657</td>\n",
       "      <td>5.800</td>\n",
       "      <td>741</td>\n",
       "    </tr>\n",
       "  </tbody>\n",
       "</table>\n",
       "<p>8560 rows × 4 columns</p>\n",
       "</div>"
      ],
      "text/plain": [
       "     release_date  popularity  vote_average  vote_count\n",
       "0      1994-09-23       5.522         8.708       27883\n",
       "1      1972-03-14       5.317         8.689       21151\n",
       "2      1974-12-20       4.747         8.570       12771\n",
       "3      1993-12-15       4.457         8.567       16219\n",
       "4      2025-02-27       9.430         8.524         431\n",
       "...           ...         ...           ...         ...\n",
       "8555   2016-04-16       3.535         5.800         329\n",
       "8556   2014-04-30       3.829         5.834         699\n",
       "8557   2013-02-01       3.533         5.800         520\n",
       "8558   2008-03-24       3.532         5.800         457\n",
       "8559   2024-09-12       3.657         5.800         741\n",
       "\n",
       "[8560 rows x 4 columns]"
      ]
     },
     "execution_count": 84,
     "metadata": {},
     "output_type": "execute_result"
    }
   ],
   "source": [
    "df2"
   ]
  },
  {
   "cell_type": "code",
   "execution_count": 85,
   "id": "18cc8679-ec81-4d97-aeae-c80c3511ee8d",
   "metadata": {},
   "outputs": [
    {
     "data": {
      "text/html": [
       "<div>\n",
       "<style scoped>\n",
       "    .dataframe tbody tr th:only-of-type {\n",
       "        vertical-align: middle;\n",
       "    }\n",
       "\n",
       "    .dataframe tbody tr th {\n",
       "        vertical-align: top;\n",
       "    }\n",
       "\n",
       "    .dataframe thead th {\n",
       "        text-align: right;\n",
       "    }\n",
       "</style>\n",
       "<table border=\"1\" class=\"dataframe\">\n",
       "  <thead>\n",
       "    <tr style=\"text-align: right;\">\n",
       "      <th></th>\n",
       "      <th>release_date</th>\n",
       "      <th>popularity</th>\n",
       "      <th>vote_average</th>\n",
       "      <th>vote_count</th>\n",
       "    </tr>\n",
       "  </thead>\n",
       "  <tbody>\n",
       "    <tr>\n",
       "      <th>0</th>\n",
       "      <td>1994-09-23</td>\n",
       "      <td>5.522</td>\n",
       "      <td>8.708</td>\n",
       "      <td>27883</td>\n",
       "    </tr>\n",
       "    <tr>\n",
       "      <th>1</th>\n",
       "      <td>1972-03-14</td>\n",
       "      <td>5.317</td>\n",
       "      <td>8.689</td>\n",
       "      <td>21151</td>\n",
       "    </tr>\n",
       "    <tr>\n",
       "      <th>2</th>\n",
       "      <td>1974-12-20</td>\n",
       "      <td>4.747</td>\n",
       "      <td>8.570</td>\n",
       "      <td>12771</td>\n",
       "    </tr>\n",
       "    <tr>\n",
       "      <th>3</th>\n",
       "      <td>1993-12-15</td>\n",
       "      <td>4.457</td>\n",
       "      <td>8.567</td>\n",
       "      <td>16219</td>\n",
       "    </tr>\n",
       "    <tr>\n",
       "      <th>4</th>\n",
       "      <td>2025-02-27</td>\n",
       "      <td>9.430</td>\n",
       "      <td>8.524</td>\n",
       "      <td>431</td>\n",
       "    </tr>\n",
       "    <tr>\n",
       "      <th>...</th>\n",
       "      <td>...</td>\n",
       "      <td>...</td>\n",
       "      <td>...</td>\n",
       "      <td>...</td>\n",
       "    </tr>\n",
       "    <tr>\n",
       "      <th>8555</th>\n",
       "      <td>2016-04-16</td>\n",
       "      <td>3.535</td>\n",
       "      <td>5.800</td>\n",
       "      <td>329</td>\n",
       "    </tr>\n",
       "    <tr>\n",
       "      <th>8556</th>\n",
       "      <td>2014-04-30</td>\n",
       "      <td>3.829</td>\n",
       "      <td>5.834</td>\n",
       "      <td>699</td>\n",
       "    </tr>\n",
       "    <tr>\n",
       "      <th>8557</th>\n",
       "      <td>2013-02-01</td>\n",
       "      <td>3.533</td>\n",
       "      <td>5.800</td>\n",
       "      <td>520</td>\n",
       "    </tr>\n",
       "    <tr>\n",
       "      <th>8558</th>\n",
       "      <td>2008-03-24</td>\n",
       "      <td>3.532</td>\n",
       "      <td>5.800</td>\n",
       "      <td>457</td>\n",
       "    </tr>\n",
       "    <tr>\n",
       "      <th>8559</th>\n",
       "      <td>2024-09-12</td>\n",
       "      <td>3.657</td>\n",
       "      <td>5.800</td>\n",
       "      <td>741</td>\n",
       "    </tr>\n",
       "  </tbody>\n",
       "</table>\n",
       "<p>8560 rows × 4 columns</p>\n",
       "</div>"
      ],
      "text/plain": [
       "     release_date  popularity  vote_average  vote_count\n",
       "0      1994-09-23       5.522         8.708       27883\n",
       "1      1972-03-14       5.317         8.689       21151\n",
       "2      1974-12-20       4.747         8.570       12771\n",
       "3      1993-12-15       4.457         8.567       16219\n",
       "4      2025-02-27       9.430         8.524         431\n",
       "...           ...         ...           ...         ...\n",
       "8555   2016-04-16       3.535         5.800         329\n",
       "8556   2014-04-30       3.829         5.834         699\n",
       "8557   2013-02-01       3.533         5.800         520\n",
       "8558   2008-03-24       3.532         5.800         457\n",
       "8559   2024-09-12       3.657         5.800         741\n",
       "\n",
       "[8560 rows x 4 columns]"
      ]
     },
     "execution_count": 85,
     "metadata": {},
     "output_type": "execute_result"
    }
   ],
   "source": [
    "df2['release_date'] = pd.to_datetime(df2['release_date'])\n",
    "df2"
   ]
  },
  {
   "cell_type": "code",
   "execution_count": 86,
   "id": "5ca8a3c7-2bbe-43c0-864b-c04439924f15",
   "metadata": {},
   "outputs": [],
   "source": [
    "df2['Release_Year'] = df2['release_date'].dt.day\n",
    "df2['Release_Date'] = df2['release_date'].dt.year\n",
    "df2['Release_Month'] = df2['release_date'].dt.month\n",
    "df2 = df2.drop(columns = 'release_date')"
   ]
  },
  {
   "cell_type": "code",
   "execution_count": 87,
   "id": "f32709c4-0a7c-4ff7-b620-bd61f4a58218",
   "metadata": {},
   "outputs": [
    {
     "data": {
      "text/html": [
       "<div>\n",
       "<style scoped>\n",
       "    .dataframe tbody tr th:only-of-type {\n",
       "        vertical-align: middle;\n",
       "    }\n",
       "\n",
       "    .dataframe tbody tr th {\n",
       "        vertical-align: top;\n",
       "    }\n",
       "\n",
       "    .dataframe thead th {\n",
       "        text-align: right;\n",
       "    }\n",
       "</style>\n",
       "<table border=\"1\" class=\"dataframe\">\n",
       "  <thead>\n",
       "    <tr style=\"text-align: right;\">\n",
       "      <th></th>\n",
       "      <th>popularity</th>\n",
       "      <th>vote_average</th>\n",
       "      <th>vote_count</th>\n",
       "      <th>Release_Year</th>\n",
       "      <th>Release_Date</th>\n",
       "      <th>Release_Month</th>\n",
       "    </tr>\n",
       "  </thead>\n",
       "  <tbody>\n",
       "    <tr>\n",
       "      <th>0</th>\n",
       "      <td>5.522</td>\n",
       "      <td>8.708</td>\n",
       "      <td>27883</td>\n",
       "      <td>23.0</td>\n",
       "      <td>1994.0</td>\n",
       "      <td>9.0</td>\n",
       "    </tr>\n",
       "    <tr>\n",
       "      <th>1</th>\n",
       "      <td>5.317</td>\n",
       "      <td>8.689</td>\n",
       "      <td>21151</td>\n",
       "      <td>14.0</td>\n",
       "      <td>1972.0</td>\n",
       "      <td>3.0</td>\n",
       "    </tr>\n",
       "    <tr>\n",
       "      <th>2</th>\n",
       "      <td>4.747</td>\n",
       "      <td>8.570</td>\n",
       "      <td>12771</td>\n",
       "      <td>20.0</td>\n",
       "      <td>1974.0</td>\n",
       "      <td>12.0</td>\n",
       "    </tr>\n",
       "    <tr>\n",
       "      <th>3</th>\n",
       "      <td>4.457</td>\n",
       "      <td>8.567</td>\n",
       "      <td>16219</td>\n",
       "      <td>15.0</td>\n",
       "      <td>1993.0</td>\n",
       "      <td>12.0</td>\n",
       "    </tr>\n",
       "    <tr>\n",
       "      <th>4</th>\n",
       "      <td>9.430</td>\n",
       "      <td>8.524</td>\n",
       "      <td>431</td>\n",
       "      <td>27.0</td>\n",
       "      <td>2025.0</td>\n",
       "      <td>2.0</td>\n",
       "    </tr>\n",
       "    <tr>\n",
       "      <th>...</th>\n",
       "      <td>...</td>\n",
       "      <td>...</td>\n",
       "      <td>...</td>\n",
       "      <td>...</td>\n",
       "      <td>...</td>\n",
       "      <td>...</td>\n",
       "    </tr>\n",
       "    <tr>\n",
       "      <th>8555</th>\n",
       "      <td>3.535</td>\n",
       "      <td>5.800</td>\n",
       "      <td>329</td>\n",
       "      <td>16.0</td>\n",
       "      <td>2016.0</td>\n",
       "      <td>4.0</td>\n",
       "    </tr>\n",
       "    <tr>\n",
       "      <th>8556</th>\n",
       "      <td>3.829</td>\n",
       "      <td>5.834</td>\n",
       "      <td>699</td>\n",
       "      <td>30.0</td>\n",
       "      <td>2014.0</td>\n",
       "      <td>4.0</td>\n",
       "    </tr>\n",
       "    <tr>\n",
       "      <th>8557</th>\n",
       "      <td>3.533</td>\n",
       "      <td>5.800</td>\n",
       "      <td>520</td>\n",
       "      <td>1.0</td>\n",
       "      <td>2013.0</td>\n",
       "      <td>2.0</td>\n",
       "    </tr>\n",
       "    <tr>\n",
       "      <th>8558</th>\n",
       "      <td>3.532</td>\n",
       "      <td>5.800</td>\n",
       "      <td>457</td>\n",
       "      <td>24.0</td>\n",
       "      <td>2008.0</td>\n",
       "      <td>3.0</td>\n",
       "    </tr>\n",
       "    <tr>\n",
       "      <th>8559</th>\n",
       "      <td>3.657</td>\n",
       "      <td>5.800</td>\n",
       "      <td>741</td>\n",
       "      <td>12.0</td>\n",
       "      <td>2024.0</td>\n",
       "      <td>9.0</td>\n",
       "    </tr>\n",
       "  </tbody>\n",
       "</table>\n",
       "<p>8560 rows × 6 columns</p>\n",
       "</div>"
      ],
      "text/plain": [
       "      popularity  vote_average  vote_count  Release_Year  Release_Date  \\\n",
       "0          5.522         8.708       27883          23.0        1994.0   \n",
       "1          5.317         8.689       21151          14.0        1972.0   \n",
       "2          4.747         8.570       12771          20.0        1974.0   \n",
       "3          4.457         8.567       16219          15.0        1993.0   \n",
       "4          9.430         8.524         431          27.0        2025.0   \n",
       "...          ...           ...         ...           ...           ...   \n",
       "8555       3.535         5.800         329          16.0        2016.0   \n",
       "8556       3.829         5.834         699          30.0        2014.0   \n",
       "8557       3.533         5.800         520           1.0        2013.0   \n",
       "8558       3.532         5.800         457          24.0        2008.0   \n",
       "8559       3.657         5.800         741          12.0        2024.0   \n",
       "\n",
       "      Release_Month  \n",
       "0               9.0  \n",
       "1               3.0  \n",
       "2              12.0  \n",
       "3              12.0  \n",
       "4               2.0  \n",
       "...             ...  \n",
       "8555            4.0  \n",
       "8556            4.0  \n",
       "8557            2.0  \n",
       "8558            3.0  \n",
       "8559            9.0  \n",
       "\n",
       "[8560 rows x 6 columns]"
      ]
     },
     "execution_count": 87,
     "metadata": {},
     "output_type": "execute_result"
    }
   ],
   "source": [
    "df2"
   ]
  },
  {
   "cell_type": "code",
   "execution_count": 88,
   "id": "f175480e-39a7-4f50-ade3-bfc183a27f8c",
   "metadata": {},
   "outputs": [
    {
     "data": {
      "text/plain": [
       "<Axes: >"
      ]
     },
     "execution_count": 88,
     "metadata": {},
     "output_type": "execute_result"
    },
    {
     "data": {
      "image/png": "[encoded data removed]",
      "text/plain": [
       "<Figure size 640x480 with 1 Axes>"
      ]
     },
     "metadata": {},
     "output_type": "display_data"
    }
   ],
   "source": [
    "sns.boxplot(df2)"
   ]
  },
  {
   "cell_type": "code",
   "execution_count": 89,
   "id": "3db42a0e-8cbd-4309-9d83-b0eb32fabc86",
   "metadata": {},
   "outputs": [
    {
     "name": "stderr",
     "output_type": "stream",
     "text": [
      "C:\\Users\\Yagnesh Narola\\AppData\\Local\\Temp\\ipykernel_13824\\2816602771.py:8: FutureWarning: Setting an item of incompatible dtype is deprecated and will raise an error in a future version of pandas. Value '4763.125' has dtype incompatible with int64, please explicitly cast to a compatible dtype first.\n",
      "  df.loc[df[i] > upperlimit, i] = upperlimit\n"
     ]
    }
   ],
   "source": [
    "def Outliers(df,columns):\n",
    "    for i in columns:\n",
    "        q1 = df[i].quantile(0.25)\n",
    "        q3 = df[i].quantile(0.75)\n",
    "        iqr = q3 - q1\n",
    "        upperlimit = q3 + (1.5 * iqr)\n",
    "        lowerlimit = q1 - (1.5 * iqr)\n",
    "        df.loc[df[i] > upperlimit, i] = upperlimit\n",
    "        df.loc[df[i] < lowerlimit, i] = lowerlimit\n",
    "    return df\n",
    "cols = ['popularity', 'vote_average', 'vote_count', 'Release_Year',\n",
    "       'Release_Date', 'Release_Month']\n",
    "df2 = Outliers(df2,cols)"
   ]
  },
  {
   "cell_type": "code",
   "execution_count": 90,
   "id": "c61a3929-1def-43f6-bfbe-1fbcdf87e9bc",
   "metadata": {},
   "outputs": [],
   "source": [
    "df2['Release_Date'] = df2['Release_Date'].fillna(df2['Release_Date'].median())\n",
    "df2['Release_Year'] = df2['Release_Year'].fillna(df2['Release_Year'].median())\n",
    "df2['Release_Month'] = df2['Release_Year'].fillna(df2['Release_Year'].median())"
   ]
  },
  {
   "cell_type": "code",
   "execution_count": 91,
   "id": "3faf2145-7be5-4385-a87e-ac304cbe5a0f",
   "metadata": {},
   "outputs": [
    {
     "data": {
      "text/plain": [
       "Index(['popularity', 'vote_average', 'vote_count', 'Release_Year',\n",
       "       'Release_Date', 'Release_Month'],\n",
       "      dtype='object')"
      ]
     },
     "execution_count": 91,
     "metadata": {},
     "output_type": "execute_result"
    }
   ],
   "source": [
    "df2.columns"
   ]
  },
  {
   "cell_type": "code",
   "execution_count": 105,
   "id": "5cd01f2a-b7cf-400a-8b1a-5766646ec78e",
   "metadata": {},
   "outputs": [
    {
     "data": {
      "text/plain": [
       "popularity       0\n",
       "vote_average     0\n",
       "vote_count       0\n",
       "Release_Year     0\n",
       "Release_Date     0\n",
       "Release_Month    0\n",
       "dtype: int64"
      ]
     },
     "execution_count": 105,
     "metadata": {},
     "output_type": "execute_result"
    }
   ],
   "source": [
    "df2.isnull().sum()"
   ]
  },
  {
   "cell_type": "code",
   "execution_count": 93,
   "id": "900b220b-a440-4119-a9e9-0982c5ae09cb",
   "metadata": {},
   "outputs": [
    {
     "data": {
      "text/plain": [
       "<Axes: >"
      ]
     },
     "execution_count": 93,
     "metadata": {},
     "output_type": "execute_result"
    },
    {
     "data": {
      "image/png": "[encoded data removed]",
      "text/plain": [
       "<Figure size 640x480 with 1 Axes>"
      ]
     },
     "metadata": {},
     "output_type": "display_data"
    }
   ],
   "source": [
    "sns.boxplot(df2)"
   ]
  },
  {
   "cell_type": "code",
   "execution_count": 106,
   "id": "a4564cca-45d0-4c79-abfd-0da1d54e0bd9",
   "metadata": {},
   "outputs": [],
   "source": [
    "x = df2.drop(columns = 'popularity')\n",
    "y = df2['popularity']"
   ]
  },
  {
   "cell_type": "code",
   "execution_count": 107,
   "id": "d1e239f9-913e-4cfd-ab3b-ef01aed9ed97",
   "metadata": {},
   "outputs": [],
   "source": [
    "xtrain,xtest,ytrain,ytest = train_test_split(x,y,random_state = 70,test_size = 30)"
   ]
  },
  {
   "cell_type": "code",
   "execution_count": 108,
   "id": "4480712c-f560-43a9-ae70-ca573121aead",
   "metadata": {},
   "outputs": [],
   "source": [
    "scaler.fit(xtrain)\n",
    "xtrainscaled = scaler.transform(xtrain)\n",
    "xtestscaled = scaler.transform(xtest)"
   ]
  },
  {
   "cell_type": "code",
   "execution_count": 124,
   "id": "5e5c98e0-00b8-4f4c-8ccb-5d8e91093b23",
   "metadata": {},
   "outputs": [],
   "source": [
    "linear.fit(xtrainscaled,ytrain)\n",
    "linears = linear.score(xtestscaled,ytest)"
   ]
  },
  {
   "cell_type": "code",
   "execution_count": 110,
   "id": "59c1456d-8e6b-4890-8131-560afcddd5b0",
   "metadata": {},
   "outputs": [],
   "source": [
    "poly.fit(xtrain)\n",
    "xtrainpoly = poly.transform(xtrain)\n",
    "xtestpoly = poly.transform(xtest)"
   ]
  },
  {
   "cell_type": "code",
   "execution_count": 123,
   "id": "eb81f91f-ea9b-423f-bb24-7e909b68d16a",
   "metadata": {},
   "outputs": [],
   "source": [
    "linear2.fit(xtrainpoly,ytrain)\n",
    "polys = linear2.score(xtestpoly,ytest)"
   ]
  },
  {
   "cell_type": "code",
   "execution_count": 119,
   "id": "0e4c4bb6-544b-49d6-9271-0f9bdfe2c3d3",
   "metadata": {},
   "outputs": [],
   "source": [
    "rd.fit(xtrainscaled,ytrain)\n",
    "rds = rd.score(xtestscaled,ytest)"
   ]
  },
  {
   "cell_type": "code",
   "execution_count": 120,
   "id": "3859dd59-740a-4e06-aeff-643110924ec6",
   "metadata": {},
   "outputs": [],
   "source": [
    "ls.fit(xtrainscaled,ytrain)\n",
    "lss = ls.score(xtestscaled,ytest)"
   ]
  },
  {
   "cell_type": "code",
   "execution_count": 121,
   "id": "05c2993a-da31-4c98-9ec4-87a9aff450a7",
   "metadata": {},
   "outputs": [],
   "source": [
    "dtr.fit(xtrainscaled,ytrain)\n",
    "dtrs = dtr.score(xtestscaled,ytest)"
   ]
  },
  {
   "cell_type": "code",
   "execution_count": 122,
   "id": "bd47cabd-aded-4758-bcb1-2bcbe53babca",
   "metadata": {},
   "outputs": [],
   "source": [
    "model.fit(xtrainscaled,ytrain)\n",
    "rfrs = model.score(xtestscaled,ytest)"
   ]
  },
  {
   "cell_type": "code",
   "execution_count": 125,
   "id": "fdbf2b03-b9e0-4ae2-bf54-64beb348cc14",
   "metadata": {},
   "outputs": [
    {
     "name": "stdout",
     "output_type": "stream",
     "text": [
      "Regression Model Scores:\n",
      "LinearRegression 0.4978601827392164\n",
      "PolynomialFeatures 0.41080784251725433\n",
      "Ridge 0.4978582064454382\n",
      "Lasso -0.003766630975921892\n",
      "DecisionTreeRegressor -0.504756200943778\n",
      "RandomForestRegressor 0.3949463794519231\n"
     ]
    }
   ],
   "source": [
    "print(\"Regression Model Scores:\")\n",
    "print(\"LinearRegression\",linears)\n",
    "print(\"PolynomialFeatures\",polys)\n",
    "print(\"Ridge\",rds)\n",
    "print(\"Lasso\",lss)\n",
    "print(\"DecisionTreeRegressor\",dtrs)\n",
    "print(\"RandomForestRegressor\",rfrs)"
   ]
  }
 ],
 "metadata": {
  "kernelspec": {
   "display_name": "Python 3 (ipykernel)",
   "language": "python",
   "name": "python3"
  },
  "language_info": {
   "codemirror_mode": {
    "name": "ipython",
    "version": 3
   },
   "file_extension": ".py",
   "mimetype": "text/x-python",
   "name": "python",
   "nbconvert_exporter": "python",
   "pygments_lexer": "ipython3",
   "version": "3.12.7"
  }
 },
 "nbformat": 4,
 "nbformat_minor": 5
}
