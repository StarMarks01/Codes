{
 "cells": [
  {
   "cell_type": "code",
   "execution_count": 3,
   "id": "d06cef73-3193-415d-970d-6eeac30e9afb",
   "metadata": {},
   "outputs": [],
   "source": [
    "import pandas as pd\n",
    "import seaborn as sns\n",
    "import numpy as np\n",
    "from sklearn.preprocessing import LabelEncoder,StandardScaler,PolynomialFeatures\n",
    "from sklearn.model_selection import train_test_split\n",
    "from sklearn.linear_model import LinearRegression,Ridge,Lasso\n",
    "from sklearn.tree import DecisionTreeRegressor\n",
    "from sklearn.svm import SVR\n",
    "from sklearn.ensemble import RandomForestRegressor"
   ]
  },
  {
   "cell_type": "code",
   "execution_count": 5,
   "id": "a1180a5c-57b5-4c64-9985-4ad8f47c6488",
   "metadata": {},
   "outputs": [
    {
     "ename": "FileNotFoundError",
     "evalue": "[Errno 2] No such file or directory: 'C:\\\\Users\\\\Yagnesh Narola\\\\Documents\\\\Coding Languages\\\\Artificial Intelligence\\\\Excel_and_CSV\\\\vgsales.csv'",
     "output_type": "error",
     "traceback": [
      "\u001b[1;31m---------------------------------------------------------------------------\u001b[0m",
      "\u001b[1;31mFileNotFoundError\u001b[0m                         Traceback (most recent call last)",
      "Cell \u001b[1;32mIn[5], line 1\u001b[0m\n\u001b[1;32m----> 1\u001b[0m df \u001b[38;5;241m=\u001b[39m pd\u001b[38;5;241m.\u001b[39mread_csv(\u001b[38;5;124mr\u001b[39m\u001b[38;5;124m\"\u001b[39m\u001b[38;5;124mC:\u001b[39m\u001b[38;5;124m\\\u001b[39m\u001b[38;5;124mUsers\u001b[39m\u001b[38;5;124m\\\u001b[39m\u001b[38;5;124mYagnesh Narola\u001b[39m\u001b[38;5;124m\\\u001b[39m\u001b[38;5;124mDocuments\u001b[39m\u001b[38;5;124m\\\u001b[39m\u001b[38;5;124mCoding Languages\u001b[39m\u001b[38;5;124m\\\u001b[39m\u001b[38;5;124mArtificial Intelligence\u001b[39m\u001b[38;5;124m\\\u001b[39m\u001b[38;5;124mExcel_and_CSV\u001b[39m\u001b[38;5;124m\\\u001b[39m\u001b[38;5;124mvgsales.csv\u001b[39m\u001b[38;5;124m\"\u001b[39m)\n",
      "File \u001b[1;32mD:\\Application Programs\\Anaconda Navigator\\Lib\\site-packages\\pandas\\io\\parsers\\readers.py:1026\u001b[0m, in \u001b[0;36mread_csv\u001b[1;34m(filepath_or_buffer, sep, delimiter, header, names, index_col, usecols, dtype, engine, converters, true_values, false_values, skipinitialspace, skiprows, skipfooter, nrows, na_values, keep_default_na, na_filter, verbose, skip_blank_lines, parse_dates, infer_datetime_format, keep_date_col, date_parser, date_format, dayfirst, cache_dates, iterator, chunksize, compression, thousands, decimal, lineterminator, quotechar, quoting, doublequote, escapechar, comment, encoding, encoding_errors, dialect, on_bad_lines, delim_whitespace, low_memory, memory_map, float_precision, storage_options, dtype_backend)\u001b[0m\n\u001b[0;32m   1013\u001b[0m kwds_defaults \u001b[38;5;241m=\u001b[39m _refine_defaults_read(\n\u001b[0;32m   1014\u001b[0m     dialect,\n\u001b[0;32m   1015\u001b[0m     delimiter,\n\u001b[1;32m   (...)\u001b[0m\n\u001b[0;32m   1022\u001b[0m     dtype_backend\u001b[38;5;241m=\u001b[39mdtype_backend,\n\u001b[0;32m   1023\u001b[0m )\n\u001b[0;32m   1024\u001b[0m kwds\u001b[38;5;241m.\u001b[39mupdate(kwds_defaults)\n\u001b[1;32m-> 1026\u001b[0m \u001b[38;5;28;01mreturn\u001b[39;00m _read(filepath_or_buffer, kwds)\n",
      "File \u001b[1;32mD:\\Application Programs\\Anaconda Navigator\\Lib\\site-packages\\pandas\\io\\parsers\\readers.py:620\u001b[0m, in \u001b[0;36m_read\u001b[1;34m(filepath_or_buffer, kwds)\u001b[0m\n\u001b[0;32m    617\u001b[0m _validate_names(kwds\u001b[38;5;241m.\u001b[39mget(\u001b[38;5;124m\"\u001b[39m\u001b[38;5;124mnames\u001b[39m\u001b[38;5;124m\"\u001b[39m, \u001b[38;5;28;01mNone\u001b[39;00m))\n\u001b[0;32m    619\u001b[0m \u001b[38;5;66;03m# Create the parser.\u001b[39;00m\n\u001b[1;32m--> 620\u001b[0m parser \u001b[38;5;241m=\u001b[39m TextFileReader(filepath_or_buffer, \u001b[38;5;241m*\u001b[39m\u001b[38;5;241m*\u001b[39mkwds)\n\u001b[0;32m    622\u001b[0m \u001b[38;5;28;01mif\u001b[39;00m chunksize \u001b[38;5;129;01mor\u001b[39;00m iterator:\n\u001b[0;32m    623\u001b[0m     \u001b[38;5;28;01mreturn\u001b[39;00m parser\n",
      "File \u001b[1;32mD:\\Application Programs\\Anaconda Navigator\\Lib\\site-packages\\pandas\\io\\parsers\\readers.py:1620\u001b[0m, in \u001b[0;36mTextFileReader.__init__\u001b[1;34m(self, f, engine, **kwds)\u001b[0m\n\u001b[0;32m   1617\u001b[0m     \u001b[38;5;28mself\u001b[39m\u001b[38;5;241m.\u001b[39moptions[\u001b[38;5;124m\"\u001b[39m\u001b[38;5;124mhas_index_names\u001b[39m\u001b[38;5;124m\"\u001b[39m] \u001b[38;5;241m=\u001b[39m kwds[\u001b[38;5;124m\"\u001b[39m\u001b[38;5;124mhas_index_names\u001b[39m\u001b[38;5;124m\"\u001b[39m]\n\u001b[0;32m   1619\u001b[0m \u001b[38;5;28mself\u001b[39m\u001b[38;5;241m.\u001b[39mhandles: IOHandles \u001b[38;5;241m|\u001b[39m \u001b[38;5;28;01mNone\u001b[39;00m \u001b[38;5;241m=\u001b[39m \u001b[38;5;28;01mNone\u001b[39;00m\n\u001b[1;32m-> 1620\u001b[0m \u001b[38;5;28mself\u001b[39m\u001b[38;5;241m.\u001b[39m_engine \u001b[38;5;241m=\u001b[39m \u001b[38;5;28mself\u001b[39m\u001b[38;5;241m.\u001b[39m_make_engine(f, \u001b[38;5;28mself\u001b[39m\u001b[38;5;241m.\u001b[39mengine)\n",
      "File \u001b[1;32mD:\\Application Programs\\Anaconda Navigator\\Lib\\site-packages\\pandas\\io\\parsers\\readers.py:1880\u001b[0m, in \u001b[0;36mTextFileReader._make_engine\u001b[1;34m(self, f, engine)\u001b[0m\n\u001b[0;32m   1878\u001b[0m     \u001b[38;5;28;01mif\u001b[39;00m \u001b[38;5;124m\"\u001b[39m\u001b[38;5;124mb\u001b[39m\u001b[38;5;124m\"\u001b[39m \u001b[38;5;129;01mnot\u001b[39;00m \u001b[38;5;129;01min\u001b[39;00m mode:\n\u001b[0;32m   1879\u001b[0m         mode \u001b[38;5;241m+\u001b[39m\u001b[38;5;241m=\u001b[39m \u001b[38;5;124m\"\u001b[39m\u001b[38;5;124mb\u001b[39m\u001b[38;5;124m\"\u001b[39m\n\u001b[1;32m-> 1880\u001b[0m \u001b[38;5;28mself\u001b[39m\u001b[38;5;241m.\u001b[39mhandles \u001b[38;5;241m=\u001b[39m get_handle(\n\u001b[0;32m   1881\u001b[0m     f,\n\u001b[0;32m   1882\u001b[0m     mode,\n\u001b[0;32m   1883\u001b[0m     encoding\u001b[38;5;241m=\u001b[39m\u001b[38;5;28mself\u001b[39m\u001b[38;5;241m.\u001b[39moptions\u001b[38;5;241m.\u001b[39mget(\u001b[38;5;124m\"\u001b[39m\u001b[38;5;124mencoding\u001b[39m\u001b[38;5;124m\"\u001b[39m, \u001b[38;5;28;01mNone\u001b[39;00m),\n\u001b[0;32m   1884\u001b[0m     compression\u001b[38;5;241m=\u001b[39m\u001b[38;5;28mself\u001b[39m\u001b[38;5;241m.\u001b[39moptions\u001b[38;5;241m.\u001b[39mget(\u001b[38;5;124m\"\u001b[39m\u001b[38;5;124mcompression\u001b[39m\u001b[38;5;124m\"\u001b[39m, \u001b[38;5;28;01mNone\u001b[39;00m),\n\u001b[0;32m   1885\u001b[0m     memory_map\u001b[38;5;241m=\u001b[39m\u001b[38;5;28mself\u001b[39m\u001b[38;5;241m.\u001b[39moptions\u001b[38;5;241m.\u001b[39mget(\u001b[38;5;124m\"\u001b[39m\u001b[38;5;124mmemory_map\u001b[39m\u001b[38;5;124m\"\u001b[39m, \u001b[38;5;28;01mFalse\u001b[39;00m),\n\u001b[0;32m   1886\u001b[0m     is_text\u001b[38;5;241m=\u001b[39mis_text,\n\u001b[0;32m   1887\u001b[0m     errors\u001b[38;5;241m=\u001b[39m\u001b[38;5;28mself\u001b[39m\u001b[38;5;241m.\u001b[39moptions\u001b[38;5;241m.\u001b[39mget(\u001b[38;5;124m\"\u001b[39m\u001b[38;5;124mencoding_errors\u001b[39m\u001b[38;5;124m\"\u001b[39m, \u001b[38;5;124m\"\u001b[39m\u001b[38;5;124mstrict\u001b[39m\u001b[38;5;124m\"\u001b[39m),\n\u001b[0;32m   1888\u001b[0m     storage_options\u001b[38;5;241m=\u001b[39m\u001b[38;5;28mself\u001b[39m\u001b[38;5;241m.\u001b[39moptions\u001b[38;5;241m.\u001b[39mget(\u001b[38;5;124m\"\u001b[39m\u001b[38;5;124mstorage_options\u001b[39m\u001b[38;5;124m\"\u001b[39m, \u001b[38;5;28;01mNone\u001b[39;00m),\n\u001b[0;32m   1889\u001b[0m )\n\u001b[0;32m   1890\u001b[0m \u001b[38;5;28;01massert\u001b[39;00m \u001b[38;5;28mself\u001b[39m\u001b[38;5;241m.\u001b[39mhandles \u001b[38;5;129;01mis\u001b[39;00m \u001b[38;5;129;01mnot\u001b[39;00m \u001b[38;5;28;01mNone\u001b[39;00m\n\u001b[0;32m   1891\u001b[0m f \u001b[38;5;241m=\u001b[39m \u001b[38;5;28mself\u001b[39m\u001b[38;5;241m.\u001b[39mhandles\u001b[38;5;241m.\u001b[39mhandle\n",
      "File \u001b[1;32mD:\\Application Programs\\Anaconda Navigator\\Lib\\site-packages\\pandas\\io\\common.py:873\u001b[0m, in \u001b[0;36mget_handle\u001b[1;34m(path_or_buf, mode, encoding, compression, memory_map, is_text, errors, storage_options)\u001b[0m\n\u001b[0;32m    868\u001b[0m \u001b[38;5;28;01melif\u001b[39;00m \u001b[38;5;28misinstance\u001b[39m(handle, \u001b[38;5;28mstr\u001b[39m):\n\u001b[0;32m    869\u001b[0m     \u001b[38;5;66;03m# Check whether the filename is to be opened in binary mode.\u001b[39;00m\n\u001b[0;32m    870\u001b[0m     \u001b[38;5;66;03m# Binary mode does not support 'encoding' and 'newline'.\u001b[39;00m\n\u001b[0;32m    871\u001b[0m     \u001b[38;5;28;01mif\u001b[39;00m ioargs\u001b[38;5;241m.\u001b[39mencoding \u001b[38;5;129;01mand\u001b[39;00m \u001b[38;5;124m\"\u001b[39m\u001b[38;5;124mb\u001b[39m\u001b[38;5;124m\"\u001b[39m \u001b[38;5;129;01mnot\u001b[39;00m \u001b[38;5;129;01min\u001b[39;00m ioargs\u001b[38;5;241m.\u001b[39mmode:\n\u001b[0;32m    872\u001b[0m         \u001b[38;5;66;03m# Encoding\u001b[39;00m\n\u001b[1;32m--> 873\u001b[0m         handle \u001b[38;5;241m=\u001b[39m \u001b[38;5;28mopen\u001b[39m(\n\u001b[0;32m    874\u001b[0m             handle,\n\u001b[0;32m    875\u001b[0m             ioargs\u001b[38;5;241m.\u001b[39mmode,\n\u001b[0;32m    876\u001b[0m             encoding\u001b[38;5;241m=\u001b[39mioargs\u001b[38;5;241m.\u001b[39mencoding,\n\u001b[0;32m    877\u001b[0m             errors\u001b[38;5;241m=\u001b[39merrors,\n\u001b[0;32m    878\u001b[0m             newline\u001b[38;5;241m=\u001b[39m\u001b[38;5;124m\"\u001b[39m\u001b[38;5;124m\"\u001b[39m,\n\u001b[0;32m    879\u001b[0m         )\n\u001b[0;32m    880\u001b[0m     \u001b[38;5;28;01melse\u001b[39;00m:\n\u001b[0;32m    881\u001b[0m         \u001b[38;5;66;03m# Binary mode\u001b[39;00m\n\u001b[0;32m    882\u001b[0m         handle \u001b[38;5;241m=\u001b[39m \u001b[38;5;28mopen\u001b[39m(handle, ioargs\u001b[38;5;241m.\u001b[39mmode)\n",
      "\u001b[1;31mFileNotFoundError\u001b[0m: [Errno 2] No such file or directory: 'C:\\\\Users\\\\Yagnesh Narola\\\\Documents\\\\Coding Languages\\\\Artificial Intelligence\\\\Excel_and_CSV\\\\vgsales.csv'"
     ]
    }
   ],
   "source": [
    "df = pd.read_csv(r)"
   ]
  },
  {
   "cell_type": "code",
   "execution_count": null,
   "id": "38c1de65-0fab-4fdb-925d-fd6c7bcaa4b0",
   "metadata": {},
   "outputs": [],
   "source": [
    "df"
   ]
  },
  {
   "cell_type": "code",
   "execution_count": null,
   "id": "63c0897d-d8c6-4f10-a613-2afa1ca8eb08",
   "metadata": {},
   "outputs": [],
   "source": [
    "df2 = df.copy()\n",
    "df3 = df.copy()\n",
    "df4 = df.copy()\n",
    "le = LabelEncoder()\n",
    "dtr = DecisionTreeRegressor()\n",
    "model = LinearRegression()\n",
    "model2 = LinearRegression()\n",
    "scaler = StandardScaler()\n",
    "rd = Ridge()\n",
    "ls = Lasso()\n",
    "poly = PolynomialFeatures()"
   ]
  },
  {
   "cell_type": "code",
   "execution_count": null,
   "id": "ad4c1bca-fa22-41e5-96d6-109f0d3dbf26",
   "metadata": {},
   "outputs": [],
   "source": [
    "df2.isnull().sum()"
   ]
  },
  {
   "cell_type": "code",
   "execution_count": null,
   "id": "748e288a-aee5-4118-b60c-b45136e75109",
   "metadata": {},
   "outputs": [],
   "source": [
    "df2 = df2.drop(columns = ['Name','Rank','Global_Sales'])\n",
    "df3 = df3.drop(columns = ['Name','Rank','NA_Sales','EU_Sales','JP_Sales','Other_Sales'])"
   ]
  },
  {
   "cell_type": "code",
   "execution_count": null,
   "id": "6614616c-cd72-4675-992f-5f1c81f050ba",
   "metadata": {},
   "outputs": [],
   "source": [
    "objv = df2.select_dtypes(include = 'object')\n",
    "for i in objv.columns:\n",
    "    df2[i] = le.fit_transform(df2[i])\n",
    "    df3[i] = le.fit_transform(df3[i])"
   ]
  },
  {
   "cell_type": "code",
   "execution_count": null,
   "id": "53916178-7fb9-4916-a88e-e1a31e4ed14a",
   "metadata": {},
   "outputs": [],
   "source": [
    "df2.isnull().sum()"
   ]
  },
  {
   "cell_type": "code",
   "execution_count": null,
   "id": "0f47c809-fa63-4b5a-9be8-e788c5520976",
   "metadata": {},
   "outputs": [],
   "source": [
    "df2['Year'] = df2['Year'].fillna(df2['Year'].median())\n",
    "df3['Year'] = df3['Year'].fillna(df3['Year'].median())\n",
    "df3['Publisher'] = df3['Publisher'].fillna(df3['Publisher'].median())"
   ]
  },
  {
   "cell_type": "code",
   "execution_count": null,
   "id": "e8bf9beb-0b41-4ed3-9e75-b8c7a57e19f4",
   "metadata": {},
   "outputs": [],
   "source": [
    "df2.isnull().sum(),df3.isnull().sum()"
   ]
  },
  {
   "cell_type": "code",
   "execution_count": null,
   "id": "85b97f19-cb28-454c-b720-3283cec8ea16",
   "metadata": {},
   "outputs": [],
   "source": [
    "df2.describe()"
   ]
  },
  {
   "cell_type": "code",
   "execution_count": null,
   "id": "54c8e0aa-7690-48e8-b1df-3f506a400aa5",
   "metadata": {},
   "outputs": [],
   "source": [
    "sns.boxplot(df2['Year'])"
   ]
  },
  {
   "cell_type": "code",
   "execution_count": null,
   "id": "d50bbe63-19fc-4dcb-aa71-81308b4aca93",
   "metadata": {},
   "outputs": [],
   "source": [
    "df2"
   ]
  },
  {
   "cell_type": "code",
   "execution_count": null,
   "id": "5e14e4a7-3ea8-482a-be1e-cf0d6663f69d",
   "metadata": {},
   "outputs": [],
   "source": [
    "def Outliers(df,columns):\n",
    "    for i in columns:\n",
    "        df[i] = pd.to_numeric(df[i], errors='coerce')\n",
    "        q1 = df[i].quantile(0.25)\n",
    "        q3 = df[i].quantile(0.75)\n",
    "        iqr = q3 - q1\n",
    "        upperlimit = q3 + (1.5 * iqr)\n",
    "        lowerlimit = q1 - (1.5 * iqr)\n",
    "        df.loc[(df[i] > upperlimit),i] = upperlimit   \n",
    "        df.loc[(df[i] < lowerlimit),i] = lowerlimit \n",
    "    return df\n",
    "cols = ['Year','Other_Sales','JP_Sales','EU_Sales','NA_Sales']\n",
    "cols2 = ['Year','Global_Sales']\n",
    "df2 = Outliers(df2,cols)\n",
    "df3 = Outliers(df3,cols2)"
   ]
  },
  {
   "cell_type": "code",
   "execution_count": null,
   "id": "05f5cd6c-52fe-4e68-8ff0-7fc8fdc2b43a",
   "metadata": {},
   "outputs": [],
   "source": [
    "df2"
   ]
  },
  {
   "cell_type": "code",
   "execution_count": null,
   "id": "e3b7d440-b0e0-403b-a03c-7ceda44f9586",
   "metadata": {},
   "outputs": [],
   "source": [
    "sns.boxplot(df2)"
   ]
  },
  {
   "cell_type": "code",
   "execution_count": null,
   "id": "26c4328a-255b-40b7-80a4-145bbf5732ef",
   "metadata": {},
   "outputs": [],
   "source": [
    "sns.boxplot(df3['Global_Sales'])"
   ]
  },
  {
   "cell_type": "code",
   "execution_count": null,
   "id": "b8e4e395-5c19-42ce-b385-420c16e642ed",
   "metadata": {},
   "outputs": [],
   "source": [
    "x = df2.drop(columns = 'JP_Sales')\n",
    "y = df2['JP_Sales']"
   ]
  },
  {
   "cell_type": "code",
   "execution_count": null,
   "id": "6de961d7-56a6-467c-ac5d-a35cbe5816e6",
   "metadata": {},
   "outputs": [],
   "source": [
    "X = df3.drop(columns = 'Global_Sales')\n",
    "Y = df3['Global_Sales']"
   ]
  },
  {
   "cell_type": "code",
   "execution_count": null,
   "id": "9d474092-7094-4821-9f0e-2c6b83744a09",
   "metadata": {},
   "outputs": [],
   "source": [
    "xtrain,xtest,ytrain,ytest = train_test_split(x,y,random_state = 70,test_size = 30)\n",
    "Xtrain,Xtest,Ytrain,Ytest = train_test_split(X,Y,random_state = 70,test_size = 30)"
   ]
  },
  {
   "cell_type": "code",
   "execution_count": null,
   "id": "e8940805-a5d5-4f15-a4ac-c8b88d4e9fe5",
   "metadata": {},
   "outputs": [],
   "source": [
    "scaler.fit(xtrain)\n",
    "xtrainscaled = scaler.transform(xtrain)\n",
    "xtestscaled = scaler.transform(xtest)\n",
    "model.fit(xtrainscaled,ytrain)\n",
    "linears2 = model.score(xtestscaled,ytest)"
   ]
  },
  {
   "cell_type": "code",
   "execution_count": null,
   "id": "ded1f1e2-fb40-4a80-8e3c-357762ff3aa6",
   "metadata": {},
   "outputs": [],
   "source": [
    "scaler.fit(Xtrain)\n",
    "Xtrainscaled = scaler.transform(Xtrain)\n",
    "Xtestscaled = scaler.transform(Xtest)\n",
    "model.fit(Xtrainscaled,Ytrain)\n",
    "linears1 = model.score(Xtestscaled,Ytest)"
   ]
  },
  {
   "cell_type": "code",
   "execution_count": null,
   "id": "410970a2-cf65-4f1e-8e97-2f59ac98851c",
   "metadata": {},
   "outputs": [],
   "source": [
    "poly.fit(Xtrain)\n",
    "Xtrainpoly = poly.transform(Xtrain)\n",
    "Xtestpoly = poly.transform(Xtest)\n",
    "model2.fit(Xtrainpoly,Ytrain)\n",
    "polys1 = model2.score(Xtestpoly,Ytest)"
   ]
  },
  {
   "cell_type": "code",
   "execution_count": null,
   "id": "b141bd2e-17c7-4373-8344-2c61dfe7f042",
   "metadata": {},
   "outputs": [],
   "source": [
    "poly.fit(xtrain)\n",
    "xtrainpoly = poly.transform(xtrain)\n",
    "xtestpoly = poly.transform(xtest)\n",
    "model2.fit(xtrainpoly,ytrain)\n",
    "polys2 = model2.score(xtestpoly,ytest)"
   ]
  },
  {
   "cell_type": "code",
   "execution_count": null,
   "id": "84147954-09c9-4dbc-a321-f643c9e61a0c",
   "metadata": {},
   "outputs": [],
   "source": [
    "rd.fit(Xtrainscaled,Ytrain)\n",
    "ridge1 = rd.score(Xtestscaled,Ytest)\n",
    "ridge1"
   ]
  },
  {
   "cell_type": "code",
   "execution_count": null,
   "id": "a4e7102f-6d70-4bc2-8475-82d9f2fef4e9",
   "metadata": {},
   "outputs": [],
   "source": [
    "rd.fit(xtrainscaled,ytrain)\n",
    "ridge2 = rd.score(xtestscaled,ytest)"
   ]
  },
  {
   "cell_type": "code",
   "execution_count": null,
   "id": "a12fe2d1-fce3-4bdf-b92c-55b5f9c59b13",
   "metadata": {},
   "outputs": [],
   "source": [
    "dtr.fit(Xtrainscaled,Ytrain)\n",
    "dtrs1 = dtr.score(Xtestscaled,Ytest)"
   ]
  },
  {
   "cell_type": "code",
   "execution_count": null,
   "id": "d0e2f2b6-cdef-42b3-bfcb-92cd66348821",
   "metadata": {},
   "outputs": [],
   "source": [
    "dtr.fit(xtrainscaled,ytrain)\n",
    "dtrs2 = dtr.score(xtestscaled,ytest)"
   ]
  },
  {
   "cell_type": "code",
   "execution_count": null,
   "id": "47a30786-b6fd-4b95-b1bc-e05da4a343a4",
   "metadata": {},
   "outputs": [],
   "source": [
    "print(\"Regression Using Global_Sales\")\n",
    "print(\"Linear Regression\",linears1)\n",
    "print(\"Ridge Regression:\",ridge1)\n",
    "print(\"Polynomial Regression:\",polys1)\n",
    "print(\"Decision Tree Regressor:\",dtrs1)"
   ]
  },
  {
   "cell_type": "code",
   "execution_count": null,
   "id": "c6bd33a1-4256-4a30-96b0-d534f47bf695",
   "metadata": {},
   "outputs": [],
   "source": [
    "print(\"Regression Without Using Global_Sales\")\n",
    "print(\"Linear Regression\",linears2)\n",
    "print(\"Ridge Regression:\",ridge2)\n",
    "print(\"Polynomial Regression:\",polys2)\n",
    "print(\"Decision Tree Regressor:\",dtrs2)"
   ]
  },
  {
   "cell_type": "code",
   "execution_count": null,
   "id": "7b8f08ef-9537-4da9-acfa-1ce0f51318bb",
   "metadata": {},
   "outputs": [],
   "source": []
  }
 ],
 "metadata": {
  "kernelspec": {
   "display_name": "Python [conda env:base] *",
   "language": "python",
   "name": "conda-base-py"
  },
  "language_info": {
   "codemirror_mode": {
    "name": "ipython",
    "version": 3
   },
   "file_extension": ".py",
   "mimetype": "text/x-python",
   "name": "python",
   "nbconvert_exporter": "python",
   "pygments_lexer": "ipython3",
   "version": "3.12.7"
  }
 },
 "nbformat": 4,
 "nbformat_minor": 5
}
