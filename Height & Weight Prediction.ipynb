{
 "cells": [
  {
   "cell_type": "code",
   "execution_count": 2,
   "id": "7cf1c994-d913-44b4-ae8e-44006e0adaaf",
   "metadata": {},
   "outputs": [],
   "source": [
    "import numpy as np\n",
    "import pandas as pd\n",
    "import seaborn as sns\n",
    "import matplotlib.pyplot as mp\n",
    "from sklearn.model_selection import train_test_split\n",
    "from sklearn.preprocessing import StandardScaler,PolynomialFeatures\n",
    "from sklearn.linear_model import LinearRegression,Ridge,Lasso\n",
    "from sklearn.tree import DecisionTreeRegressor"
   ]
  },
  {
   "cell_type": "code",
   "execution_count": 3,
   "id": "204adc42-cd24-47a0-a9a0-f731986157e1",
   "metadata": {},
   "outputs": [],
   "source": [
    "scaler = StandardScaler()\n",
    "dtr = DecisionTreeRegressor(random_state = 42)\n",
    "model = LinearRegression()\n",
    "model2 = LinearRegression()\n",
    "poly = PolynomialFeatures(degree = 2)\n",
    "rd = Ridge()\n",
    "ls = Lasso()"
   ]
  },
  {
   "cell_type": "code",
   "execution_count": 4,
   "id": "ffabf061-6934-4564-a85f-0ac558c28191",
   "metadata": {},
   "outputs": [
    {
     "data": {
      "text/plain": [
       "(23, 2)"
      ]
     },
     "execution_count": 4,
     "metadata": {},
     "output_type": "execute_result"
    }
   ],
   "source": [
    "df = pd.read_csv(r\"C:\\Users\\Yagnesh Narola\\Documents\\Coding Languages\\Artificial Intelligence\\Excel_and_CSV\\height-weight.csv\",encoding='ISO-8859-1')\n",
    "df.shape"
   ]
  },
  {
   "cell_type": "code",
   "execution_count": 5,
   "id": "2528c88d-78b2-4f65-86d6-bb5bb2f829c1",
   "metadata": {},
   "outputs": [],
   "source": [
    "df2 = df.copy()"
   ]
  },
  {
   "cell_type": "code",
   "execution_count": 6,
   "id": "c14a76d0",
   "metadata": {},
   "outputs": [
    {
     "data": {
      "text/plain": [
       "Weight    0\n",
       "Height    0\n",
       "dtype: int64"
      ]
     },
     "execution_count": 6,
     "metadata": {},
     "output_type": "execute_result"
    }
   ],
   "source": [
    "df.isnull().sum()"
   ]
  },
  {
   "cell_type": "code",
   "execution_count": 7,
   "id": "1e14d534-341f-4a0c-9ef2-e12b5204f97d",
   "metadata": {},
   "outputs": [
    {
     "data": {
      "text/plain": [
       "<Axes: >"
      ]
     },
     "execution_count": 7,
     "metadata": {},
     "output_type": "execute_result"
    },
    {
     "data": {
      "image/png": "[encoded data removed]",
      "text/plain": [
       "<Figure size 640x480 with 1 Axes>"
      ]
     },
     "metadata": {},
     "output_type": "display_data"
    }
   ],
   "source": [
    "sns.boxplot(df)"
   ]
  },
  {
   "cell_type": "code",
   "execution_count": 8,
   "id": "03ce68c3-b095-4946-9e81-866177dbc0bd",
   "metadata": {},
   "outputs": [],
   "source": [
    "x = df[['Weight']]\n",
    "y = df['Height']"
   ]
  },
  {
   "cell_type": "code",
   "execution_count": 9,
   "id": "ffc3d9ff-638d-4574-abd0-9ee768606607",
   "metadata": {},
   "outputs": [
    {
     "data": {
      "text/html": [
       "<div>\n",
       "<style scoped>\n",
       "    .dataframe tbody tr th:only-of-type {\n",
       "        vertical-align: middle;\n",
       "    }\n",
       "\n",
       "    .dataframe tbody tr th {\n",
       "        vertical-align: top;\n",
       "    }\n",
       "\n",
       "    .dataframe thead th {\n",
       "        text-align: right;\n",
       "    }\n",
       "</style>\n",
       "<table border=\"1\" class=\"dataframe\">\n",
       "  <thead>\n",
       "    <tr style=\"text-align: right;\">\n",
       "      <th></th>\n",
       "      <th>Weight</th>\n",
       "      <th>Height</th>\n",
       "    </tr>\n",
       "  </thead>\n",
       "  <tbody>\n",
       "    <tr>\n",
       "      <th>count</th>\n",
       "      <td>23.000000</td>\n",
       "      <td>23.000000</td>\n",
       "    </tr>\n",
       "    <tr>\n",
       "      <th>mean</th>\n",
       "      <td>73.826087</td>\n",
       "      <td>158.391304</td>\n",
       "    </tr>\n",
       "    <tr>\n",
       "      <th>std</th>\n",
       "      <td>17.872407</td>\n",
       "      <td>19.511626</td>\n",
       "    </tr>\n",
       "    <tr>\n",
       "      <th>min</th>\n",
       "      <td>45.000000</td>\n",
       "      <td>120.000000</td>\n",
       "    </tr>\n",
       "    <tr>\n",
       "      <th>25%</th>\n",
       "      <td>59.000000</td>\n",
       "      <td>142.500000</td>\n",
       "    </tr>\n",
       "    <tr>\n",
       "      <th>50%</th>\n",
       "      <td>78.000000</td>\n",
       "      <td>162.000000</td>\n",
       "    </tr>\n",
       "    <tr>\n",
       "      <th>75%</th>\n",
       "      <td>86.000000</td>\n",
       "      <td>175.000000</td>\n",
       "    </tr>\n",
       "    <tr>\n",
       "      <th>max</th>\n",
       "      <td>105.000000</td>\n",
       "      <td>183.000000</td>\n",
       "    </tr>\n",
       "  </tbody>\n",
       "</table>\n",
       "</div>"
      ],
      "text/plain": [
       "           Weight      Height\n",
       "count   23.000000   23.000000\n",
       "mean    73.826087  158.391304\n",
       "std     17.872407   19.511626\n",
       "min     45.000000  120.000000\n",
       "25%     59.000000  142.500000\n",
       "50%     78.000000  162.000000\n",
       "75%     86.000000  175.000000\n",
       "max    105.000000  183.000000"
      ]
     },
     "execution_count": 9,
     "metadata": {},
     "output_type": "execute_result"
    }
   ],
   "source": [
    "df2.describe()"
   ]
  },
  {
   "cell_type": "code",
   "execution_count": 10,
   "id": "7de652c7-164c-4383-b068-51c036f4e394",
   "metadata": {},
   "outputs": [
    {
     "data": {
      "text/plain": [
       "<matplotlib.collections.PathCollection at 0x186650c0830>"
      ]
     },
     "execution_count": 10,
     "metadata": {},
     "output_type": "execute_result"
    },
    {
     "data": {
      "image/png": "[encoded data removed]",
      "text/plain": [
       "<Figure size 640x480 with 1 Axes>"
      ]
     },
     "metadata": {},
     "output_type": "display_data"
    }
   ],
   "source": [
    "mp.scatter(df['Weight'],df['Height'])#increment"
   ]
  },
  {
   "cell_type": "code",
   "execution_count": 11,
   "id": "6e78363e-e12e-4eec-a5f2-4cac888c809f",
   "metadata": {},
   "outputs": [],
   "source": [
    "xtrain,xtest,ytrain,ytest = train_test_split(x,y,test_size = 0.20,random_state = 42 )"
   ]
  },
  {
   "cell_type": "code",
   "execution_count": 12,
   "id": "84ba8735",
   "metadata": {},
   "outputs": [
    {
     "data": {
      "text/plain": [
       "(    Weight\n",
       " 15      78\n",
       " 9       78\n",
       " 0       45\n",
       " 8       95\n",
       " 17      65,\n",
       " 15    177\n",
       " 9     170\n",
       " 0     120\n",
       " 8     182\n",
       " 17    159\n",
       " Name: Height, dtype: int64,\n",
       "     Weight\n",
       " 12     105\n",
       " 1       58\n",
       " 13     100\n",
       " 5       78\n",
       " 2       48\n",
       " 11      95\n",
       " 20      45\n",
       " 3       60\n",
       " 4       70\n",
       " 18      76\n",
       " 16      50\n",
       " 21      56\n",
       " 22      72\n",
       " 7       90\n",
       " 10      82\n",
       " 14      85\n",
       " 19      87\n",
       " 6       80,\n",
       " 12    175\n",
       " 1     135\n",
       " 13    183\n",
       " 5     162\n",
       " 2     123\n",
       " 11    182\n",
       " 20    129\n",
       " 3     145\n",
       " 4     160\n",
       " 18    150\n",
       " 16    140\n",
       " 21    140\n",
       " 22    160\n",
       " 7     175\n",
       " 10    176\n",
       " 14    170\n",
       " 19    167\n",
       " 6     163\n",
       " Name: Height, dtype: int64)"
      ]
     },
     "execution_count": 12,
     "metadata": {},
     "output_type": "execute_result"
    }
   ],
   "source": [
    "xtest,ytest,xtrain,ytrain"
   ]
  },
  {
   "cell_type": "code",
   "execution_count": 13,
   "id": "ae3450a6",
   "metadata": {},
   "outputs": [],
   "source": [
    "xtrainscaled = scaler.fit_transform(xtrain)\n",
    "xtestscaled = scaler.fit_transform(xtest)\n",
    "model.fit(xtrainscaled,ytrain)\n",
    "linear = model.score(xtestscaled,ytest)"
   ]
  },
  {
   "cell_type": "code",
   "execution_count": 14,
   "id": "129f2a76",
   "metadata": {},
   "outputs": [],
   "source": [
    "poly.fit(xtrain)\n",
    "xtrainpoly = poly.transform(xtrain)\n",
    "xtestpoly = poly.transform(xtest)\n",
    "model2.fit(xtrainpoly,ytrain)\n",
    "polys = model2.score(xtestpoly,ytest)"
   ]
  },
  {
   "cell_type": "code",
   "execution_count": 15,
   "id": "063e0b71",
   "metadata": {},
   "outputs": [],
   "source": [
    "ls.fit(xtrainscaled,ytrain)\n",
    "lasso = ls.score(xtestscaled,ytest)"
   ]
  },
  {
   "cell_type": "code",
   "execution_count": 16,
   "id": "1e4c3e6c",
   "metadata": {},
   "outputs": [],
   "source": [
    "rd.fit(xtrainscaled,ytrain)\n",
    "ridge = rd.score(xtestscaled,ytest)"
   ]
  },
  {
   "cell_type": "code",
   "execution_count": 17,
   "id": "c5eb9f10",
   "metadata": {},
   "outputs": [],
   "source": [
    "dtr.fit(xtrainscaled,ytrain)\n",
    "dtrs = dtr.score(xtestscaled,ytest)"
   ]
  }
 ],
 "metadata": {
  "kernelspec": {
   "display_name": "base",
   "language": "python",
   "name": "python3"
  },
  "language_info": {
   "codemirror_mode": {
    "name": "ipython",
    "version": 3
   },
   "file_extension": ".py",
   "mimetype": "text/x-python",
   "name": "python",
   "nbconvert_exporter": "python",
   "pygments_lexer": "ipython3",
   "version": "3.12.7"
  }
 },
 "nbformat": 4,
 "nbformat_minor": 5
}
